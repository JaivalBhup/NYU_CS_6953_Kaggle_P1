{
  "cells": [
    {
      "cell_type": "code",
      "execution_count": 2,
      "id": "417938cd-285d-468c-9352-f5298c3fd75c",
      "metadata": {
        "id": "417938cd-285d-468c-9352-f5298c3fd75c"
      },
      "outputs": [],
      "source": [
        "import numpy as np\n",
        "import torch\n",
        "from torchvision import datasets, transforms\n",
        "from torch.utils.data.sampler import SubsetRandomSampler\n",
        "import matplotlib.pyplot as plt\n",
        "import pandas as pd\n",
        "from torchsummary import summary"
      ]
    },
    {
      "cell_type": "code",
      "source": [
        "def get_transformations():\n",
        "    train_transform = transforms.Compose([\n",
        "        # transforms.ToPILImage(),\n",
        "        transforms.RandomCrop(32, padding=6),\n",
        "        transforms.RandomHorizontalFlip(),\n",
        "        transforms.ColorJitter(brightness=0.2, contrast=0.2, saturation=0.2, hue=0.1),\n",
        "        transforms.RandomRotation(20),\n",
        "        transforms.RandomAffine(degrees=10, translate=(0.2, 0.2)),\n",
        "        transforms.ToTensor(),\n",
        "        transforms.Normalize((0.4914, 0.4822, 0.4465), (0.2470, 0.2435, 0.2616)),\n",
        "    ])\n",
        "\n",
        "    test_transform = transforms.Compose([\n",
        "        # transforms.ToPILImage(),\n",
        "        transforms.ToTensor(),\n",
        "        transforms.Normalize((0.4914, 0.4822, 0.4465), (0.2470, 0.2435, 0.2616)),\n",
        "    ])\n",
        "\n",
        "    return train_transform, test_transform"
      ],
      "metadata": {
        "id": "J2w-XLSSG7LE"
      },
      "id": "J2w-XLSSG7LE",
      "execution_count": 3,
      "outputs": []
    },
    {
      "cell_type": "code",
      "execution_count": 4,
      "id": "6b5d9752-0e48-46ba-bd1e-8bcde83f0c64",
      "metadata": {
        "colab": {
          "base_uri": "https://localhost:8080/"
        },
        "id": "6b5d9752-0e48-46ba-bd1e-8bcde83f0c64",
        "outputId": "f88c989f-11c3-403b-aca0-bab2b1c96d57"
      },
      "outputs": [
        {
          "output_type": "stream",
          "name": "stdout",
          "text": [
            "Downloading https://www.cs.toronto.edu/~kriz/cifar-10-python.tar.gz to ./data/cifar-10-python.tar.gz\n"
          ]
        },
        {
          "output_type": "stream",
          "name": "stderr",
          "text": [
            "100%|██████████| 170M/170M [00:15<00:00, 10.9MB/s]\n"
          ]
        },
        {
          "output_type": "stream",
          "name": "stdout",
          "text": [
            "Extracting ./data/cifar-10-python.tar.gz to ./data\n",
            "Files already downloaded and verified\n"
          ]
        }
      ],
      "source": [
        "# Dataset\n",
        "train_transform, test_transform = get_transformations()\n",
        "train = datasets.CIFAR10('./data', train=True, download=True, transform=train_transform)\n",
        "test = datasets.CIFAR10('./data', train=False, download=True, transform=test_transform)\n",
        "# Data Loader\n",
        "train_data_loader  = torch.utils.data.DataLoader(train, batch_size=128,shuffle=True)\n",
        "validation_data_loader  = torch.utils.data.DataLoader(test, batch_size=128,shuffle=False)"
      ]
    },
    {
      "cell_type": "code",
      "execution_count": 14,
      "id": "d1f936fe-ea50-445e-a4d4-b003449b1c14",
      "metadata": {
        "id": "d1f936fe-ea50-445e-a4d4-b003449b1c14"
      },
      "outputs": [],
      "source": [
        "class SE_Block(torch.nn.Module):\n",
        "    def __init__(self, channels, reduction=16):\n",
        "        super(SE_Block, self).__init__()\n",
        "        self.avg_pool = torch.nn.AdaptiveAvgPool2d(1)\n",
        "        self.fc = torch.nn.Sequential(\n",
        "            torch.nn.Linear(channels, channels//reduction, bias = False),\n",
        "            torch.nn.ReLU(inplace=True),\n",
        "            torch.nn.Linear(channels//reduction, channels, bias = False),\n",
        "            torch.nn.Sigmoid()\n",
        "        )\n",
        "    def forward(self, x):\n",
        "        batch, channels, w, h = x.size()\n",
        "        y = self.avg_pool(x).view(batch, channels)\n",
        "        y = self.fc(y).view(batch, channels, 1, 1)\n",
        "        return x * y.expand_as(x)\n",
        "\n",
        "class ResNet_Block(torch.nn.Module): # This signifies one block with one skip connection\n",
        "    def __init__(self, in_channels, out_channels, stride = 1, downsample = None, use_se_block=False):\n",
        "        super(ResNet_Block, self).__init__()\n",
        "        self.convolution1 = torch.nn.Sequential(\n",
        "                                torch.nn.Conv2d(in_channels, out_channels, kernel_size = 3, stride = stride, padding=1), # Here the stride is not 1 because we might be coming from a bigger image size and we might need to downsample\n",
        "                                torch.nn.BatchNorm2d(out_channels),\n",
        "                                torch.nn.ReLU())\n",
        "        self.convolution2 = torch.nn.Sequential(\n",
        "                                torch.nn.Conv2d(out_channels, out_channels, kernel_size = 3, stride = 1, padding = 1), # Here the stride is always 1 because this is the second conv layer is not downsampled\n",
        "                                torch.nn.BatchNorm2d(out_channels))\n",
        "        self.downsample = downsample # This will be not none if we are now changing. (Now we have a new block configuration)\n",
        "        self.relu = torch.nn.ReLU()\n",
        "        self.out_channels = out_channels\n",
        "        self.use_se_block = use_se_block\n",
        "        self.se_block = SE_Block(out_channels)\n",
        "\n",
        "\n",
        "    def forward(self, x):\n",
        "        res = x\n",
        "        if self.downsample is not None:\n",
        "            res = self.downsample(x)\n",
        "\n",
        "        out = self.convolution1(x)\n",
        "        out = self.convolution2(out)\n",
        "\n",
        "        #SE Block\n",
        "        if self.use_se_block:\n",
        "          out = self.se_block(out)\n",
        "\n",
        "        z = out + res\n",
        "        z = self.relu(z)\n",
        "\n",
        "        return z\n",
        "\n",
        "class ResNet(torch.nn.Module):\n",
        "    def __init__(self, block, layers):\n",
        "        super(ResNet, self).__init__()\n",
        "        self.block = block\n",
        "        # Input = 3 channels, 32 * 32\n",
        "        self.convolution1 = torch.nn.Sequential(\n",
        "                                torch.nn.Conv2d(3, 64, kernel_size = 5, stride = 1, padding = 2),\n",
        "                                torch.nn.BatchNorm2d(64),\n",
        "                                torch.nn.ReLU()) # 32*32\n",
        "        self.maxpool = torch.nn.MaxPool2d(kernel_size = 3, stride = 2, padding = 1)\n",
        "        self.layer0 = self.add_res_net_block(64, 64, layers[0], first_layer_stride = 1) # 32*32\n",
        "        self.layer1 = self.add_res_net_block(64, 128, layers[1], first_layer_stride = 2)# 16*16\n",
        "        self.layer2 = self.add_res_net_block(128, 256, layers[2], first_layer_stride = 2)#8*8\n",
        "        self.avgpool = torch.nn.AvgPool2d(8, stride=1)\n",
        "        self.fc = torch.nn.Linear(256, 10)\n",
        "\n",
        "        # Initialize weights\n",
        "        for m in self.modules():\n",
        "            if isinstance(m, torch.nn.Conv2d):\n",
        "                torch.nn.init.kaiming_normal_(m.weight, mode='fan_out', nonlinearity='relu')\n",
        "            elif isinstance(m, torch.nn.BatchNorm2d):\n",
        "                torch.nn.init.constant_(m.weight, 1)\n",
        "                torch.nn.init.constant_(m.bias, 0)\n",
        "\n",
        "    def add_res_net_block(self, in_channels, out_channels, layers, first_layer_stride):\n",
        "        downsample = None\n",
        "        num_layers, use_se_block = layers\n",
        "        if first_layer_stride != 1 or in_channels != out_channels:\n",
        "            downsample = torch.nn.Sequential(\n",
        "                torch.nn.Conv2d(in_channels, out_channels, kernel_size = 1, stride=first_layer_stride),\n",
        "                torch.nn.BatchNorm2d(out_channels)\n",
        "            )\n",
        "        block_layers = []\n",
        "        block_layers.append(self.block(in_channels, out_channels, first_layer_stride, downsample))\n",
        "        for i in range(num_layers-1):\n",
        "            if i == num_layers - 2 and use_se_block:\n",
        "                block_layers.append(self.block(out_channels, out_channels, 1, None, True))\n",
        "            else:\n",
        "                block_layers.append(self.block(out_channels, out_channels, 1, None, False))\n",
        "        return torch.nn.Sequential(*block_layers)\n",
        "\n",
        "    def forward(self, x):\n",
        "        x = self.convolution1(x)\n",
        "        # x = self.maxpool(x)\n",
        "        x = self.layer0(x)\n",
        "        x = self.layer1(x)\n",
        "        x = self.layer2(x)\n",
        "        x = self.avgpool(x)\n",
        "        x = x.view(x.size(0), -1)\n",
        "        x = self.fc(x)\n",
        "\n",
        "        return x\n"
      ]
    },
    {
      "cell_type": "code",
      "source": [
        "def train_model(model, train_data_loader, validation_data_loader, label_smoothing = 0, lr = 0.1, weight_decay = 0.0005, momentum=0.9, nesterov=True, epochs=100):\n",
        "    print(label_smoothing,lr, weight_decay , momentum, nesterov, epochs)\n",
        "    device = torch.device('cuda' if torch.cuda.is_available() else 'cpu')\n",
        "    loss = torch.nn.CrossEntropyLoss(label_smoothing=label_smoothing)\n",
        "    optimizer = torch.optim.SGD(model.parameters(), lr = lr, weight_decay = weight_decay, momentum=momentum, nesterov=nesterov)\n",
        "\n",
        "    def lr_schedule_with_warmup(epoch):\n",
        "        if epoch < 5:\n",
        "            return (epoch+1)/5\n",
        "        return 0.5 * (1 + np.cos(np.pi * (epoch-5)/(epochs-5)))\n",
        "\n",
        "    # scheduler = torch.optim.lr_scheduler.LambdaLR(optimizer, lr_lambda=lr_schedule_with_warmup)\n",
        "    # scheduler = torch.optim.lr_scheduler.MultiStepLR(optimizer, milestones=[20, 40, 60, 80], gamma=0.1)\n",
        "    scheduler = torch.optim.lr_scheduler.CosineAnnealingLR(optimizer, T_max=epochs, eta_min=0.00001)\n",
        "    train_loss = []\n",
        "    val_loss = []\n",
        "    train_accuracies = []\n",
        "    val_accuracies = []\n",
        "\n",
        "    for epoch in range(epochs):\n",
        "      trainloss = 0.0\n",
        "      valloss = 0.0\n",
        "      val_correct = 0\n",
        "      train_correct = 0\n",
        "      val_total = 0\n",
        "      train_total = 0\n",
        "      model.train() # telling python that we are intereseted in updating any trainable parameters in the network\n",
        "\n",
        "      for images, labels in train_data_loader:\n",
        "        images = images.to(device)\n",
        "        labels = labels.to(device)\n",
        "        optimizer.zero_grad() # makes sure we have zeroes out gradients for trainable parameters from the previous iteration\n",
        "        pred = model(images) # forward pass\n",
        "        fit = loss(pred, labels)\n",
        "        fit.backward() # backward\n",
        "        torch.nn.utils.clip_grad_norm_(model.parameters(), max_norm=1)\n",
        "        optimizer.step() # updates the weight\n",
        "        trainloss += fit.item()\n",
        "        _, predicted = torch.max(pred, 1)\n",
        "        train_correct += (predicted == labels).sum().item()\n",
        "        train_total += labels.size(0)\n",
        "      model.eval()\n",
        "      for images, labels in validation_data_loader:\n",
        "        with torch.no_grad():\n",
        "          images = images.to(device)\n",
        "          labels = labels.to(device)\n",
        "          pred = model(images)\n",
        "          fit = loss(pred, labels)\n",
        "          valloss += fit.item()\n",
        "          _, predicted = torch.max(pred, 1)\n",
        "          val_correct += (predicted == labels).sum().item()\n",
        "          val_total += labels.size(0)\n",
        "\n",
        "      trainloss = trainloss/len(train_data_loader)\n",
        "      valloss = valloss/len(validation_data_loader)\n",
        "      val_loss.append(valloss)\n",
        "      train_loss.append(trainloss)\n",
        "\n",
        "      val_accuracy = 100 * val_correct/val_total\n",
        "      val_accuracies.append(val_accuracy)\n",
        "      train_accuracy = 100 * train_correct/train_total\n",
        "      train_accuracies.append(train_accuracy)\n",
        "\n",
        "\n",
        "      scheduler.step()\n",
        "\n",
        "      print(f'Epoch: {epoch+1}/{epochs} | Train Loss: {trainloss:.2f} | val loss: {valloss:.2f} | val Accuracy: {val_accuracy:.2f}%')\n",
        "\n",
        "    return model, train_loss, val_loss, train_accuracies, val_accuracies"
      ],
      "metadata": {
        "id": "omfB6nvOdEu0"
      },
      "id": "omfB6nvOdEu0",
      "execution_count": 16,
      "outputs": []
    },
    {
      "cell_type": "code",
      "source": [
        "device = torch.device('cuda' if torch.cuda.is_available() else 'cpu')\n",
        "model = ResNet(ResNet_Block, [(4, False),(4, False),(3, True)]).to(device)\n",
        "summary(model, (3,32,32))"
      ],
      "metadata": {
        "id": "xDPcQnvMICLX",
        "colab": {
          "base_uri": "https://localhost:8080/"
        },
        "outputId": "77e2db1b-d5c4-44cf-baa2-ac9d654029ff"
      },
      "id": "xDPcQnvMICLX",
      "execution_count": 21,
      "outputs": [
        {
          "output_type": "stream",
          "name": "stdout",
          "text": [
            "----------------------------------------------------------------\n",
            "        Layer (type)               Output Shape         Param #\n",
            "================================================================\n",
            "            Conv2d-1           [-1, 64, 32, 32]           4,864\n",
            "       BatchNorm2d-2           [-1, 64, 32, 32]             128\n",
            "              ReLU-3           [-1, 64, 32, 32]               0\n",
            "            Conv2d-4           [-1, 64, 32, 32]          36,928\n",
            "       BatchNorm2d-5           [-1, 64, 32, 32]             128\n",
            "              ReLU-6           [-1, 64, 32, 32]               0\n",
            "            Conv2d-7           [-1, 64, 32, 32]          36,928\n",
            "       BatchNorm2d-8           [-1, 64, 32, 32]             128\n",
            "              ReLU-9           [-1, 64, 32, 32]               0\n",
            "     ResNet_Block-10           [-1, 64, 32, 32]               0\n",
            "           Conv2d-11           [-1, 64, 32, 32]          36,928\n",
            "      BatchNorm2d-12           [-1, 64, 32, 32]             128\n",
            "             ReLU-13           [-1, 64, 32, 32]               0\n",
            "           Conv2d-14           [-1, 64, 32, 32]          36,928\n",
            "      BatchNorm2d-15           [-1, 64, 32, 32]             128\n",
            "             ReLU-16           [-1, 64, 32, 32]               0\n",
            "     ResNet_Block-17           [-1, 64, 32, 32]               0\n",
            "           Conv2d-18           [-1, 64, 32, 32]          36,928\n",
            "      BatchNorm2d-19           [-1, 64, 32, 32]             128\n",
            "             ReLU-20           [-1, 64, 32, 32]               0\n",
            "           Conv2d-21           [-1, 64, 32, 32]          36,928\n",
            "      BatchNorm2d-22           [-1, 64, 32, 32]             128\n",
            "             ReLU-23           [-1, 64, 32, 32]               0\n",
            "     ResNet_Block-24           [-1, 64, 32, 32]               0\n",
            "           Conv2d-25           [-1, 64, 32, 32]          36,928\n",
            "      BatchNorm2d-26           [-1, 64, 32, 32]             128\n",
            "             ReLU-27           [-1, 64, 32, 32]               0\n",
            "           Conv2d-28           [-1, 64, 32, 32]          36,928\n",
            "      BatchNorm2d-29           [-1, 64, 32, 32]             128\n",
            "             ReLU-30           [-1, 64, 32, 32]               0\n",
            "     ResNet_Block-31           [-1, 64, 32, 32]               0\n",
            "           Conv2d-32          [-1, 128, 16, 16]           8,320\n",
            "      BatchNorm2d-33          [-1, 128, 16, 16]             256\n",
            "           Conv2d-34          [-1, 128, 16, 16]          73,856\n",
            "      BatchNorm2d-35          [-1, 128, 16, 16]             256\n",
            "             ReLU-36          [-1, 128, 16, 16]               0\n",
            "           Conv2d-37          [-1, 128, 16, 16]         147,584\n",
            "      BatchNorm2d-38          [-1, 128, 16, 16]             256\n",
            "             ReLU-39          [-1, 128, 16, 16]               0\n",
            "     ResNet_Block-40          [-1, 128, 16, 16]               0\n",
            "           Conv2d-41          [-1, 128, 16, 16]         147,584\n",
            "      BatchNorm2d-42          [-1, 128, 16, 16]             256\n",
            "             ReLU-43          [-1, 128, 16, 16]               0\n",
            "           Conv2d-44          [-1, 128, 16, 16]         147,584\n",
            "      BatchNorm2d-45          [-1, 128, 16, 16]             256\n",
            "             ReLU-46          [-1, 128, 16, 16]               0\n",
            "     ResNet_Block-47          [-1, 128, 16, 16]               0\n",
            "           Conv2d-48          [-1, 128, 16, 16]         147,584\n",
            "      BatchNorm2d-49          [-1, 128, 16, 16]             256\n",
            "             ReLU-50          [-1, 128, 16, 16]               0\n",
            "           Conv2d-51          [-1, 128, 16, 16]         147,584\n",
            "      BatchNorm2d-52          [-1, 128, 16, 16]             256\n",
            "             ReLU-53          [-1, 128, 16, 16]               0\n",
            "     ResNet_Block-54          [-1, 128, 16, 16]               0\n",
            "           Conv2d-55          [-1, 128, 16, 16]         147,584\n",
            "      BatchNorm2d-56          [-1, 128, 16, 16]             256\n",
            "             ReLU-57          [-1, 128, 16, 16]               0\n",
            "           Conv2d-58          [-1, 128, 16, 16]         147,584\n",
            "      BatchNorm2d-59          [-1, 128, 16, 16]             256\n",
            "             ReLU-60          [-1, 128, 16, 16]               0\n",
            "     ResNet_Block-61          [-1, 128, 16, 16]               0\n",
            "           Conv2d-62            [-1, 256, 8, 8]          33,024\n",
            "      BatchNorm2d-63            [-1, 256, 8, 8]             512\n",
            "           Conv2d-64            [-1, 256, 8, 8]         295,168\n",
            "      BatchNorm2d-65            [-1, 256, 8, 8]             512\n",
            "             ReLU-66            [-1, 256, 8, 8]               0\n",
            "           Conv2d-67            [-1, 256, 8, 8]         590,080\n",
            "      BatchNorm2d-68            [-1, 256, 8, 8]             512\n",
            "             ReLU-69            [-1, 256, 8, 8]               0\n",
            "     ResNet_Block-70            [-1, 256, 8, 8]               0\n",
            "           Conv2d-71            [-1, 256, 8, 8]         590,080\n",
            "      BatchNorm2d-72            [-1, 256, 8, 8]             512\n",
            "             ReLU-73            [-1, 256, 8, 8]               0\n",
            "           Conv2d-74            [-1, 256, 8, 8]         590,080\n",
            "      BatchNorm2d-75            [-1, 256, 8, 8]             512\n",
            "             ReLU-76            [-1, 256, 8, 8]               0\n",
            "     ResNet_Block-77            [-1, 256, 8, 8]               0\n",
            "           Conv2d-78            [-1, 256, 8, 8]         590,080\n",
            "      BatchNorm2d-79            [-1, 256, 8, 8]             512\n",
            "             ReLU-80            [-1, 256, 8, 8]               0\n",
            "           Conv2d-81            [-1, 256, 8, 8]         590,080\n",
            "      BatchNorm2d-82            [-1, 256, 8, 8]             512\n",
            "AdaptiveAvgPool2d-83            [-1, 256, 1, 1]               0\n",
            "           Linear-84                   [-1, 16]           4,096\n",
            "             ReLU-85                   [-1, 16]               0\n",
            "           Linear-86                  [-1, 256]           4,096\n",
            "          Sigmoid-87                  [-1, 256]               0\n",
            "         SE_Block-88            [-1, 256, 8, 8]               0\n",
            "             ReLU-89            [-1, 256, 8, 8]               0\n",
            "     ResNet_Block-90            [-1, 256, 8, 8]               0\n",
            "        AvgPool2d-91            [-1, 256, 1, 1]               0\n",
            "           Linear-92                   [-1, 10]           2,570\n",
            "================================================================\n",
            "Total params: 4,711,946\n",
            "Trainable params: 4,711,946\n",
            "Non-trainable params: 0\n",
            "----------------------------------------------------------------\n",
            "Input size (MB): 0.01\n",
            "Forward/backward pass size (MB): 26.01\n",
            "Params size (MB): 17.97\n",
            "Estimated Total Size (MB): 43.99\n",
            "----------------------------------------------------------------\n"
          ]
        }
      ]
    },
    {
      "cell_type": "code",
      "source": [
        "# lr = 0.001, weight_decay = 0.0001, momentum=0.8)\n",
        "model, train_loss, val_loss, train_accuracies, val_accuracies = train_model(model, train_data_loader, validation_data_loader,label_smoothing = 0.1, lr = 0.1, weight_decay = 0.0005, momentum=0.9, nesterov=True, epochs=50)"
      ],
      "metadata": {
        "colab": {
          "base_uri": "https://localhost:8080/"
        },
        "id": "3UETng8sIKBG",
        "outputId": "8184dff5-17b5-4dfc-a2eb-5b1d708aebc1"
      },
      "id": "3UETng8sIKBG",
      "execution_count": 22,
      "outputs": [
        {
          "output_type": "stream",
          "name": "stdout",
          "text": [
            "0.1 0.1 0.0005 0.9 True 50\n",
            "Epoch: 1/50 | Train Loss: 1.87 | val loss: 1.92 | val Accuracy: 44.08%\n",
            "Epoch: 2/50 | Train Loss: 1.54 | val loss: 1.60 | val Accuracy: 54.56%\n",
            "Epoch: 3/50 | Train Loss: 1.40 | val loss: 1.37 | val Accuracy: 63.13%\n",
            "Epoch: 4/50 | Train Loss: 1.31 | val loss: 1.24 | val Accuracy: 69.24%\n",
            "Epoch: 5/50 | Train Loss: 1.24 | val loss: 1.40 | val Accuracy: 63.45%\n",
            "Epoch: 6/50 | Train Loss: 1.19 | val loss: 1.32 | val Accuracy: 66.35%\n",
            "Epoch: 7/50 | Train Loss: 1.16 | val loss: 1.10 | val Accuracy: 75.10%\n",
            "Epoch: 8/50 | Train Loss: 1.13 | val loss: 1.08 | val Accuracy: 75.81%\n",
            "Epoch: 9/50 | Train Loss: 1.11 | val loss: 1.18 | val Accuracy: 72.10%\n",
            "Epoch: 10/50 | Train Loss: 1.10 | val loss: 1.03 | val Accuracy: 77.86%\n",
            "Epoch: 11/50 | Train Loss: 1.08 | val loss: 1.10 | val Accuracy: 75.19%\n",
            "Epoch: 12/50 | Train Loss: 1.07 | val loss: 1.14 | val Accuracy: 73.95%\n",
            "Epoch: 13/50 | Train Loss: 1.06 | val loss: 1.22 | val Accuracy: 70.87%\n",
            "Epoch: 14/50 | Train Loss: 1.04 | val loss: 0.98 | val Accuracy: 79.17%\n",
            "Epoch: 15/50 | Train Loss: 1.03 | val loss: 1.01 | val Accuracy: 79.34%\n",
            "Epoch: 16/50 | Train Loss: 1.02 | val loss: 0.96 | val Accuracy: 80.89%\n",
            "Epoch: 17/50 | Train Loss: 1.01 | val loss: 1.05 | val Accuracy: 76.18%\n",
            "Epoch: 18/50 | Train Loss: 1.00 | val loss: 0.96 | val Accuracy: 81.51%\n",
            "Epoch: 19/50 | Train Loss: 0.99 | val loss: 1.01 | val Accuracy: 79.19%\n",
            "Epoch: 20/50 | Train Loss: 0.98 | val loss: 0.91 | val Accuracy: 82.67%\n",
            "Epoch: 21/50 | Train Loss: 0.97 | val loss: 0.90 | val Accuracy: 83.84%\n",
            "Epoch: 22/50 | Train Loss: 0.96 | val loss: 0.91 | val Accuracy: 83.04%\n",
            "Epoch: 23/50 | Train Loss: 0.95 | val loss: 0.86 | val Accuracy: 84.81%\n",
            "Epoch: 24/50 | Train Loss: 0.93 | val loss: 0.93 | val Accuracy: 82.02%\n",
            "Epoch: 25/50 | Train Loss: 0.92 | val loss: 0.92 | val Accuracy: 82.75%\n",
            "Epoch: 26/50 | Train Loss: 0.91 | val loss: 0.89 | val Accuracy: 83.70%\n",
            "Epoch: 27/50 | Train Loss: 0.90 | val loss: 0.82 | val Accuracy: 87.01%\n",
            "Epoch: 28/50 | Train Loss: 0.88 | val loss: 0.83 | val Accuracy: 86.56%\n",
            "Epoch: 29/50 | Train Loss: 0.87 | val loss: 0.80 | val Accuracy: 87.87%\n",
            "Epoch: 30/50 | Train Loss: 0.86 | val loss: 0.91 | val Accuracy: 82.99%\n",
            "Epoch: 31/50 | Train Loss: 0.85 | val loss: 0.81 | val Accuracy: 87.48%\n",
            "Epoch: 32/50 | Train Loss: 0.84 | val loss: 0.81 | val Accuracy: 87.11%\n",
            "Epoch: 33/50 | Train Loss: 0.82 | val loss: 0.78 | val Accuracy: 88.73%\n",
            "Epoch: 34/50 | Train Loss: 0.80 | val loss: 0.76 | val Accuracy: 88.96%\n",
            "Epoch: 35/50 | Train Loss: 0.79 | val loss: 0.75 | val Accuracy: 89.62%\n",
            "Epoch: 36/50 | Train Loss: 0.78 | val loss: 0.74 | val Accuracy: 90.44%\n",
            "Epoch: 37/50 | Train Loss: 0.76 | val loss: 0.72 | val Accuracy: 90.92%\n",
            "Epoch: 38/50 | Train Loss: 0.74 | val loss: 0.71 | val Accuracy: 91.70%\n",
            "Epoch: 39/50 | Train Loss: 0.73 | val loss: 0.70 | val Accuracy: 91.53%\n",
            "Epoch: 40/50 | Train Loss: 0.72 | val loss: 0.69 | val Accuracy: 92.39%\n",
            "Epoch: 41/50 | Train Loss: 0.71 | val loss: 0.69 | val Accuracy: 92.60%\n",
            "Epoch: 42/50 | Train Loss: 0.69 | val loss: 0.68 | val Accuracy: 92.83%\n",
            "Epoch: 43/50 | Train Loss: 0.68 | val loss: 0.67 | val Accuracy: 92.93%\n",
            "Epoch: 44/50 | Train Loss: 0.67 | val loss: 0.66 | val Accuracy: 93.65%\n",
            "Epoch: 45/50 | Train Loss: 0.66 | val loss: 0.66 | val Accuracy: 93.63%\n",
            "Epoch: 46/50 | Train Loss: 0.65 | val loss: 0.66 | val Accuracy: 93.97%\n",
            "Epoch: 47/50 | Train Loss: 0.64 | val loss: 0.65 | val Accuracy: 93.95%\n",
            "Epoch: 48/50 | Train Loss: 0.64 | val loss: 0.65 | val Accuracy: 93.95%\n",
            "Epoch: 49/50 | Train Loss: 0.64 | val loss: 0.65 | val Accuracy: 94.00%\n",
            "Epoch: 50/50 | Train Loss: 0.63 | val loss: 0.65 | val Accuracy: 94.08%\n"
          ]
        }
      ]
    },
    {
      "cell_type": "code",
      "execution_count": 23,
      "id": "734700fb-ce69-4af6-8eaa-49fa5c461716",
      "metadata": {
        "colab": {
          "base_uri": "https://localhost:8080/",
          "height": 386
        },
        "id": "734700fb-ce69-4af6-8eaa-49fa5c461716",
        "outputId": "502d38e0-168c-4b8f-c7c7-77292de3897d"
      },
      "outputs": [
        {
          "output_type": "display_data",
          "data": {
            "text/plain": [
              "<Figure size 1000x400 with 2 Axes>"
            ],
            "image/png": "[encoded data removed]"
          },
          "metadata": {}
        }
      ],
      "source": [
        "fig, ax = plt.subplots(1,2,figsize=(10,4))\n",
        "ax[0].plot(train_loss, label=\"Train Loss\")\n",
        "ax[0].plot(val_loss, label=\"Validation Loss\")\n",
        "ax[0].set_xlabel(\"Epochs\")\n",
        "ax[0].set_ylabel(\"Loss\")\n",
        "ax[0].legend()\n",
        "\n",
        "ax[1].plot(train_accuracies, label=\"Train Accuracy\")\n",
        "ax[1].plot(val_accuracies, label=\"Validation Accuracy\")\n",
        "ax[1].set_xlabel(\"Epochs\")\n",
        "ax[1].set_ylabel(\"Accuracy\")\n",
        "ax[1].legend()\n",
        "plt.tight_layout()"
      ]
    },
    {
      "cell_type": "code",
      "source": [
        "torch.save(model.state_dict(), './ResNet4_4_3.pth')"
      ],
      "metadata": {
        "id": "TmgPkyTAJYAT",
        "colab": {
          "base_uri": "https://localhost:8080/"
        },
        "outputId": "b770721e-a800-43bf-dd70-5dca40b0abdd"
      },
      "id": "TmgPkyTAJYAT",
      "execution_count": null,
      "outputs": [
        {
          "output_type": "stream",
          "name": "stderr",
          "text": [
            "<ipython-input-129-d501dd5d0cd0>:2: FutureWarning: You are using `torch.load` with `weights_only=False` (the current default value), which uses the default pickle module implicitly. It is possible to construct malicious pickle data which will execute arbitrary code during unpickling (See https://github.com/pytorch/pytorch/blob/main/SECURITY.md#untrusted-models for more details). In a future release, the default value for `weights_only` will be flipped to `True`. This limits the functions that could be executed during unpickling. Arbitrary objects will no longer be allowed to be loaded via this mode unless they are explicitly allowlisted by the user via `torch.serialization.add_safe_globals`. We recommend you start setting `weights_only=True` for any use case where you don't have full control of the loaded file. Please open an issue on GitHub for any issues related to this experimental feature.\n",
            "  model = torch.load('./ResNet4_4_3.pth')\n"
          ]
        }
      ]
    },
    {
      "cell_type": "code",
      "source": [
        "def unpickle(file):\n",
        "    import pickle\n",
        "    with open(file, 'rb') as fo:\n",
        "        dict = pickle.load(fo, encoding='bytes')\n",
        "    return dict"
      ],
      "metadata": {
        "id": "klXjmlS6s-m-"
      },
      "id": "klXjmlS6s-m-",
      "execution_count": 27,
      "outputs": []
    },
    {
      "cell_type": "code",
      "source": [
        "pred_batch = unpickle('cifar_test_nolabel.pkl')\n",
        "pred_images = pred_batch[b'data']\n",
        "pred_dataset = [test_transform(img) for img in pred_images]\n",
        "pred_loader =  torch.utils.data.DataLoader(pred_dataset, batch_size=128, shuffle = False)\n",
        "model.eval()\n",
        "predictions_made = []\n",
        "with torch.no_grad():\n",
        "  for images in pred_loader:\n",
        "    images = images.to(device)\n",
        "    pred = model(images)\n",
        "    _, predicted = torch.max(pred, 1)\n",
        "    predictions_made.extend(predicted.cpu().numpy())\n",
        "benchmark = pd.DataFrame({'ID': [i for i in range(len(predictions_made))], 'Labels': predictions_made})\n",
        "benchmark.to_csv('./benchmark.csv', index=False)"
      ],
      "metadata": {
        "id": "bIW_L8Hr2Q5q"
      },
      "id": "bIW_L8Hr2Q5q",
      "execution_count": 29,
      "outputs": []
    }
  ],
  "metadata": {
    "kernelspec": {
      "display_name": "Python 3",
      "name": "python3"
    },
    "language_info": {
      "codemirror_mode": {
        "name": "ipython",
        "version": 3
      },
      "file_extension": ".py",
      "mimetype": "text/x-python",
      "name": "python",
      "nbconvert_exporter": "python",
      "pygments_lexer": "ipython3",
      "version": "3.13.2"
    },
    "colab": {
      "provenance": [],
      "gpuType": "T4"
    },
    "accelerator": "GPU"
  },
  "nbformat": 4,
  "nbformat_minor": 5
}