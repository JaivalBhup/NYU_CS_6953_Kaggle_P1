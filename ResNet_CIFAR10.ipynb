{
  "cells": [
    {
      "cell_type": "code",
      "execution_count": 2,
      "id": "417938cd-285d-468c-9352-f5298c3fd75c",
      "metadata": {
        "id": "417938cd-285d-468c-9352-f5298c3fd75c"
      },
      "outputs": [],
      "source": [
        "import numpy as np\n",
        "import torch\n",
        "from torchvision import datasets, transforms\n",
        "from torch.utils.data.sampler import SubsetRandomSampler\n",
        "import matplotlib.pyplot as plt\n",
        "import pandas as pd"
      ]
    },
    {
      "cell_type": "markdown",
      "source": [],
      "metadata": {
        "id": "XIJpf5-gKQ3g"
      },
      "id": "XIJpf5-gKQ3g"
    },
    {
      "cell_type": "code",
      "execution_count": 3,
      "id": "bf4c087e-5fc3-4ca1-bd0b-c3e40e6fd3dd",
      "metadata": {
        "colab": {
          "base_uri": "https://localhost:8080/"
        },
        "id": "bf4c087e-5fc3-4ca1-bd0b-c3e40e6fd3dd",
        "outputId": "b9603cc9-98c8-431e-c4e1-f4d237e08554"
      },
      "outputs": [
        {
          "output_type": "stream",
          "name": "stdout",
          "text": [
            "cuda\n"
          ]
        }
      ],
      "source": [
        "device = torch.device('cuda' if torch.cuda.is_available() else 'cpu')\n",
        "print(device)"
      ]
    },
    {
      "cell_type": "code",
      "execution_count": 4,
      "id": "6b5d9752-0e48-46ba-bd1e-8bcde83f0c64",
      "metadata": {
        "colab": {
          "base_uri": "https://localhost:8080/"
        },
        "id": "6b5d9752-0e48-46ba-bd1e-8bcde83f0c64",
        "outputId": "e0c28fb1-e2b1-4e16-a7e9-8d8a22222483"
      },
      "outputs": [
        {
          "output_type": "stream",
          "name": "stdout",
          "text": [
            "Downloading https://www.cs.toronto.edu/~kriz/cifar-10-python.tar.gz to ./data/cifar-10-python.tar.gz\n"
          ]
        },
        {
          "output_type": "stream",
          "name": "stderr",
          "text": [
            "100%|██████████| 170M/170M [00:03<00:00, 43.1MB/s]\n"
          ]
        },
        {
          "output_type": "stream",
          "name": "stdout",
          "text": [
            "Extracting ./data/cifar-10-python.tar.gz to ./data\n",
            "Files already downloaded and verified\n"
          ]
        }
      ],
      "source": [
        "# Dataset\n",
        "# We want to normalize for each channels. Should add normalizing code here in the data loader\n",
        "class CIFAR10WithID(datasets.CIFAR10):\n",
        "    def __getitem__(self, index):\n",
        "        img, label = super().__getitem__(index)\n",
        "        return img, label, index\n",
        "\n",
        "transform = transforms.Compose([\n",
        "    transforms.RandomHorizontalFlip(),   # Mirror images\n",
        "    transforms.RandomRotation(15),       # Small rotations\n",
        "    transforms.ColorJitter(brightness=0.2, contrast=0.2),  # Change brightness\n",
        "    transforms.RandomCrop(32, padding=4),  # Random crops\n",
        "    transforms.ToTensor(),\n",
        "    transforms.Normalize(mean=[0.5, 0.5, 0.5], std=[0.5, 0.5, 0.5]),\n",
        "])\n",
        "train = CIFAR10WithID(root=\"./data\", train=True, download=True, transform=transform)\n",
        "test = CIFAR10WithID(root=\"./data\", train=False, download=True, transform=transform)\n",
        "# train = datasets.CIFAR10('./data', train=True, download=True, transform=transforms.ToTensor())\n",
        "# test = datasets.CIFAR10('./data', train=False, download=True, transform=transforms.ToTensor())"
      ]
    },
    {
      "cell_type": "code",
      "execution_count": 5,
      "id": "4be7ca0a-6e4f-4b01-b86d-ab6617a5445c",
      "metadata": {
        "id": "4be7ca0a-6e4f-4b01-b86d-ab6617a5445c"
      },
      "outputs": [],
      "source": [
        "# Data Loader\n",
        "train_data_loader  = torch.utils.data.DataLoader(train, batch_size=64,shuffle=True)\n",
        "test_data_loader  = torch.utils.data.DataLoader(test, batch_size=64,shuffle=False)"
      ]
    },
    {
      "cell_type": "code",
      "execution_count": 7,
      "id": "5e31742b-4bfd-4f6a-bd4a-7ea942ece994",
      "metadata": {
        "id": "5e31742b-4bfd-4f6a-bd4a-7ea942ece994"
      },
      "outputs": [],
      "source": [
        "images, labels, id = next(iter(train_data_loader))"
      ]
    },
    {
      "cell_type": "code",
      "source": [
        "print(labels[0].item())"
      ],
      "metadata": {
        "colab": {
          "base_uri": "https://localhost:8080/"
        },
        "id": "R5TtvyhVll-E",
        "outputId": "d8c5cbb6-9376-4cb1-c7dd-79daff4d7960"
      },
      "id": "R5TtvyhVll-E",
      "execution_count": 8,
      "outputs": [
        {
          "output_type": "stream",
          "name": "stdout",
          "text": [
            "0\n"
          ]
        }
      ]
    },
    {
      "cell_type": "code",
      "execution_count": 9,
      "id": "d1f936fe-ea50-445e-a4d4-b003449b1c14",
      "metadata": {
        "id": "d1f936fe-ea50-445e-a4d4-b003449b1c14"
      },
      "outputs": [],
      "source": [
        "class ResNet_Block(torch.nn.Module): # This signifies one block with one skip connection\n",
        "    def __init__(self, in_channels, out_channels, stride = 1, downsample = None):\n",
        "        super(ResNet_Block, self).__init__()\n",
        "        self.convolution1 = torch.nn.Sequential(\n",
        "                                torch.nn.Conv2d(in_channels, out_channels, kernel_size = 3, stride = stride, padding=1), # Here the stride is not 1 because we might be coming from a bigger image size and we might need to downsample\n",
        "                                torch.nn.BatchNorm2d(out_channels),\n",
        "                                torch.nn.ReLU())\n",
        "        self.convolution2 = torch.nn.Sequential(\n",
        "                                torch.nn.Conv2d(out_channels, out_channels, kernel_size = 3, stride = 1, padding = 1), # Here the stride is always 1 because this is the second conv layer is not downsampled\n",
        "                                torch.nn.BatchNorm2d(out_channels))\n",
        "        self.downsample = downsample # This will be not none if we are now changing. (Now we have a new block configuration)\n",
        "        self.relu = torch.nn.ReLU()\n",
        "        self.out_channels = out_channels\n",
        "\n",
        "\n",
        "    def forward(self, x):\n",
        "        res = x\n",
        "        if self.downsample is not None:\n",
        "            res = self.downsample(x)\n",
        "\n",
        "        out1 = self.convolution1(x)\n",
        "        out2 = self.convolution2(out1)\n",
        "        z = out2 + res\n",
        "        z = self.relu(z)\n",
        "\n",
        "        return z\n",
        "\n"
      ]
    },
    {
      "cell_type": "code",
      "source": [
        "class ResNet(torch.nn.Module):\n",
        "    def __init__(self, block, layers):\n",
        "        super(ResNet, self).__init__()\n",
        "        self.block = block\n",
        "        # Input = 3 channels, 32 * 32\n",
        "        self.convolution1 = torch.nn.Sequential(\n",
        "                                torch.nn.Conv2d(3, 64, kernel_size = 5, stride = 1, padding = 2),\n",
        "                                torch.nn.BatchNorm2d(64),\n",
        "                                torch.nn.ReLU()) # 32*32\n",
        "        self.maxpool = torch.nn.MaxPool2d(kernel_size = 3, stride = 2, padding = 1)\n",
        "        self.layer0 = self.add_res_net_block(64, 64, layers[0], first_layer_stride = 1) # 32*32\n",
        "        self.layer1 = self.add_res_net_block(64, 128, layers[1], first_layer_stride = 2)# 16*16\n",
        "        self.layer2 = self.add_res_net_block(128, 256, layers[2], first_layer_stride = 2)#8*8\n",
        "        self.avgpool = torch.nn.AvgPool2d(8, stride=1)\n",
        "        self.fc = torch.nn.Linear(256, 10)\n",
        "\n",
        "    def add_res_net_block(self, in_channels, out_channels, num_layers, first_layer_stride):\n",
        "        downsample = None\n",
        "        if first_layer_stride != 1 or in_channels != out_channels:\n",
        "            downsample = torch.nn.Sequential(\n",
        "                torch.nn.Conv2d(in_channels, out_channels, kernel_size = 1, stride=first_layer_stride),\n",
        "                torch.nn.BatchNorm2d(out_channels)\n",
        "            )\n",
        "        block_layers = []\n",
        "        block_layers.append(self.block(in_channels, out_channels, first_layer_stride, downsample))\n",
        "        for _ in range(num_layers-1):\n",
        "            block_layers.append(self.block(out_channels, out_channels, 1, None))\n",
        "\n",
        "        return torch.nn.Sequential(*block_layers)\n",
        "\n",
        "    def forward(self, x):\n",
        "        x = self.convolution1(x)\n",
        "        # x = self.maxpool(x)\n",
        "        x = self.layer0(x)\n",
        "        x = self.layer1(x)\n",
        "        x = self.layer2(x)\n",
        "        x = self.avgpool(x)\n",
        "        x = x.view(x.size(0), -1)\n",
        "        x = self.fc(x)\n",
        "\n",
        "        return x"
      ],
      "metadata": {
        "id": "omfB6nvOdEu0"
      },
      "id": "omfB6nvOdEu0",
      "execution_count": 10,
      "outputs": []
    },
    {
      "cell_type": "code",
      "execution_count": 13,
      "id": "8c5a8618-9e7e-4044-b432-3ea9aefc37e4",
      "metadata": {
        "id": "8c5a8618-9e7e-4044-b432-3ea9aefc37e4"
      },
      "outputs": [],
      "source": [
        "model = ResNet(ResNet_Block, [4, 4, 3]).to(device)\n",
        "loss = torch.nn.CrossEntropyLoss()\n",
        "optimizer = torch.optim.SGD(model.parameters(), lr = 0.001, weight_decay = 0.0001, momentum=0.8)\n",
        "scheduler = torch.optim.lr_scheduler.CosineAnnealingLR(optimizer, T_max=50)"
      ]
    },
    {
      "cell_type": "code",
      "execution_count": 17,
      "id": "d5a6cbb3-9543-440a-a6b4-5e676d5508eb",
      "metadata": {
        "colab": {
          "base_uri": "https://localhost:8080/",
          "height": 490
        },
        "id": "d5a6cbb3-9543-440a-a6b4-5e676d5508eb",
        "outputId": "e2e2373f-5f72-443c-9146-7ba7f6dacf78"
      },
      "outputs": [
        {
          "output_type": "stream",
          "name": "stdout",
          "text": [
            "Epoch: 0, Train Loss: 0.21, Test loss: 0.39, Train Accuracy: 92.50%, Test Accuracy: 86.96%\n",
            "Epoch: 1, Train Loss: 0.21, Test loss: 0.39, Train Accuracy: 92.58%, Test Accuracy: 86.88%\n",
            "Epoch: 2, Train Loss: 0.21, Test loss: 0.39, Train Accuracy: 92.64%, Test Accuracy: 87.03%\n",
            "Epoch: 3, Train Loss: 0.20, Test loss: 0.40, Train Accuracy: 92.91%, Test Accuracy: 86.80%\n",
            "Epoch: 4, Train Loss: 0.20, Test loss: 0.39, Train Accuracy: 93.06%, Test Accuracy: 86.64%\n",
            "Epoch: 5, Train Loss: 0.20, Test loss: 0.39, Train Accuracy: 93.17%, Test Accuracy: 87.33%\n",
            "Epoch: 6, Train Loss: 0.20, Test loss: 0.39, Train Accuracy: 93.15%, Test Accuracy: 87.19%\n"
          ]
        },
        {
          "output_type": "error",
          "ename": "KeyboardInterrupt",
          "evalue": "",
          "traceback": [
            "\u001b[0;31m---------------------------------------------------------------------------\u001b[0m",
            "\u001b[0;31mKeyboardInterrupt\u001b[0m                         Traceback (most recent call last)",
            "\u001b[0;32m<ipython-input-17-81b171f29e16>\u001b[0m in \u001b[0;36m<cell line: 0>\u001b[0;34m()\u001b[0m\n\u001b[1;32m     18\u001b[0m     \u001b[0mpred\u001b[0m \u001b[0;34m=\u001b[0m \u001b[0mmodel\u001b[0m\u001b[0;34m(\u001b[0m\u001b[0mimages\u001b[0m\u001b[0;34m)\u001b[0m \u001b[0;31m# forward pass\u001b[0m\u001b[0;34m\u001b[0m\u001b[0;34m\u001b[0m\u001b[0m\n\u001b[1;32m     19\u001b[0m     \u001b[0mfit\u001b[0m \u001b[0;34m=\u001b[0m \u001b[0mloss\u001b[0m\u001b[0;34m(\u001b[0m\u001b[0mpred\u001b[0m\u001b[0;34m,\u001b[0m \u001b[0mlabels\u001b[0m\u001b[0;34m)\u001b[0m\u001b[0;34m\u001b[0m\u001b[0;34m\u001b[0m\u001b[0m\n\u001b[0;32m---> 20\u001b[0;31m     \u001b[0mfit\u001b[0m\u001b[0;34m.\u001b[0m\u001b[0mbackward\u001b[0m\u001b[0;34m(\u001b[0m\u001b[0;34m)\u001b[0m \u001b[0;31m# backward pass\u001b[0m\u001b[0;34m\u001b[0m\u001b[0;34m\u001b[0m\u001b[0m\n\u001b[0m\u001b[1;32m     21\u001b[0m     \u001b[0moptimizer\u001b[0m\u001b[0;34m.\u001b[0m\u001b[0mstep\u001b[0m\u001b[0;34m(\u001b[0m\u001b[0;34m)\u001b[0m \u001b[0;31m# updates the weight\u001b[0m\u001b[0;34m\u001b[0m\u001b[0;34m\u001b[0m\u001b[0m\n\u001b[1;32m     22\u001b[0m     \u001b[0mtrainloss\u001b[0m \u001b[0;34m+=\u001b[0m \u001b[0mfit\u001b[0m\u001b[0;34m.\u001b[0m\u001b[0mitem\u001b[0m\u001b[0;34m(\u001b[0m\u001b[0;34m)\u001b[0m\u001b[0;34m\u001b[0m\u001b[0;34m\u001b[0m\u001b[0m\n",
            "\u001b[0;32m/usr/local/lib/python3.11/dist-packages/torch/_tensor.py\u001b[0m in \u001b[0;36mbackward\u001b[0;34m(self, gradient, retain_graph, create_graph, inputs)\u001b[0m\n\u001b[1;32m    579\u001b[0m                 \u001b[0minputs\u001b[0m\u001b[0;34m=\u001b[0m\u001b[0minputs\u001b[0m\u001b[0;34m,\u001b[0m\u001b[0;34m\u001b[0m\u001b[0;34m\u001b[0m\u001b[0m\n\u001b[1;32m    580\u001b[0m             )\n\u001b[0;32m--> 581\u001b[0;31m         torch.autograd.backward(\n\u001b[0m\u001b[1;32m    582\u001b[0m             \u001b[0mself\u001b[0m\u001b[0;34m,\u001b[0m \u001b[0mgradient\u001b[0m\u001b[0;34m,\u001b[0m \u001b[0mretain_graph\u001b[0m\u001b[0;34m,\u001b[0m \u001b[0mcreate_graph\u001b[0m\u001b[0;34m,\u001b[0m \u001b[0minputs\u001b[0m\u001b[0;34m=\u001b[0m\u001b[0minputs\u001b[0m\u001b[0;34m\u001b[0m\u001b[0;34m\u001b[0m\u001b[0m\n\u001b[1;32m    583\u001b[0m         )\n",
            "\u001b[0;32m/usr/local/lib/python3.11/dist-packages/torch/autograd/__init__.py\u001b[0m in \u001b[0;36mbackward\u001b[0;34m(tensors, grad_tensors, retain_graph, create_graph, grad_variables, inputs)\u001b[0m\n\u001b[1;32m    345\u001b[0m     \u001b[0;31m# some Python versions print out the first line of a multi-line function\u001b[0m\u001b[0;34m\u001b[0m\u001b[0;34m\u001b[0m\u001b[0m\n\u001b[1;32m    346\u001b[0m     \u001b[0;31m# calls in the traceback and some print out the last line\u001b[0m\u001b[0;34m\u001b[0m\u001b[0;34m\u001b[0m\u001b[0m\n\u001b[0;32m--> 347\u001b[0;31m     _engine_run_backward(\n\u001b[0m\u001b[1;32m    348\u001b[0m         \u001b[0mtensors\u001b[0m\u001b[0;34m,\u001b[0m\u001b[0;34m\u001b[0m\u001b[0;34m\u001b[0m\u001b[0m\n\u001b[1;32m    349\u001b[0m         \u001b[0mgrad_tensors_\u001b[0m\u001b[0;34m,\u001b[0m\u001b[0;34m\u001b[0m\u001b[0;34m\u001b[0m\u001b[0m\n",
            "\u001b[0;32m/usr/local/lib/python3.11/dist-packages/torch/autograd/graph.py\u001b[0m in \u001b[0;36m_engine_run_backward\u001b[0;34m(t_outputs, *args, **kwargs)\u001b[0m\n\u001b[1;32m    823\u001b[0m         \u001b[0munregister_hooks\u001b[0m \u001b[0;34m=\u001b[0m \u001b[0m_register_logging_hooks_on_whole_graph\u001b[0m\u001b[0;34m(\u001b[0m\u001b[0mt_outputs\u001b[0m\u001b[0;34m)\u001b[0m\u001b[0;34m\u001b[0m\u001b[0;34m\u001b[0m\u001b[0m\n\u001b[1;32m    824\u001b[0m     \u001b[0;32mtry\u001b[0m\u001b[0;34m:\u001b[0m\u001b[0;34m\u001b[0m\u001b[0;34m\u001b[0m\u001b[0m\n\u001b[0;32m--> 825\u001b[0;31m         return Variable._execution_engine.run_backward(  # Calls into the C++ engine to run the backward pass\n\u001b[0m\u001b[1;32m    826\u001b[0m             \u001b[0mt_outputs\u001b[0m\u001b[0;34m,\u001b[0m \u001b[0;34m*\u001b[0m\u001b[0margs\u001b[0m\u001b[0;34m,\u001b[0m \u001b[0;34m**\u001b[0m\u001b[0mkwargs\u001b[0m\u001b[0;34m\u001b[0m\u001b[0;34m\u001b[0m\u001b[0m\n\u001b[1;32m    827\u001b[0m         )  # Calls into the C++ engine to run the backward pass\n",
            "\u001b[0;31mKeyboardInterrupt\u001b[0m: "
          ]
        }
      ],
      "source": [
        "train_loss = []\n",
        "test_loss = []\n",
        "train_accuracies = []\n",
        "test_accuracies = []\n",
        "for epoch in range(45):\n",
        "  trainloss = 0.0\n",
        "  testloss = 0.0\n",
        "  test_correct = 0\n",
        "  train_correct = 0\n",
        "  test_total = 0\n",
        "  train_total = 0\n",
        "  model.train() # telling python that we are intereseted in updating any trainable parameters in the network\n",
        "\n",
        "  for images, labels, indices in train_data_loader:\n",
        "    images = images.to(device)\n",
        "    labels = labels.to(device)\n",
        "    optimizer.zero_grad() # makes sure we have zeroes out gradients for trainable parameters from the previous iteration\n",
        "    pred = model(images) # forward pass\n",
        "    fit = loss(pred, labels)\n",
        "    fit.backward() # backward pass\n",
        "    optimizer.step() # updates the weight\n",
        "    trainloss += fit.item()\n",
        "    _, predicted = torch.max(pred, 1)\n",
        "    train_correct += (predicted == labels).sum().item()\n",
        "    train_total += labels.size(0)\n",
        "  scheduler.step()\n",
        "  model.eval()\n",
        "  for images, labels, indices in test_data_loader:\n",
        "    with torch.no_grad():\n",
        "      images = images.to(device)\n",
        "      labels = labels.to(device)\n",
        "      pred = model(images)\n",
        "      fit = loss(pred, labels)\n",
        "      testloss += fit.item()\n",
        "      _, predicted = torch.max(pred, 1)\n",
        "      test_correct += (predicted == labels).sum().item()\n",
        "      test_total += labels.size(0)\n",
        "      # for id, label in zip(indices, pred):\n",
        "      #   data_list.append([id, label])\n",
        "\n",
        "\n",
        "  trainloss = trainloss/len(train_data_loader)\n",
        "  testloss = testloss/len(test_data_loader)\n",
        "\n",
        "  train_loss.append(trainloss)\n",
        "  test_loss.append(testloss)\n",
        "\n",
        "  test_accuracy = 100 * test_correct/test_total\n",
        "  train_accuracy = 100 * train_correct/train_total\n",
        "  test_accuracies.append(test_accuracy)\n",
        "  train_accuracies.append(train_accuracy)\n",
        "\n",
        "  print(f'Epoch: {epoch}, Train Loss: {trainloss:.2f}, Test loss: {testloss:.2f}, Train Accuracy: {train_accuracy:.2f}%, Test Accuracy: {test_accuracy:.2f}%')"
      ]
    },
    {
      "cell_type": "code",
      "execution_count": 18,
      "id": "734700fb-ce69-4af6-8eaa-49fa5c461716",
      "metadata": {
        "colab": {
          "base_uri": "https://localhost:8080/",
          "height": 407
        },
        "id": "734700fb-ce69-4af6-8eaa-49fa5c461716",
        "outputId": "02cfcd26-4514-49a3-8439-c28eba802d3c"
      },
      "outputs": [
        {
          "output_type": "display_data",
          "data": {
            "text/plain": [
              "<Figure size 1000x400 with 2 Axes>"
            ],
            "image/png": "[encoded data removed]"
          },
          "metadata": {}
        }
      ],
      "source": [
        "fig, ax = plt.subplots(1,2,figsize=(10,4))\n",
        "ax[0].plot(train_loss, label=\"Train Loss\")\n",
        "ax[0].plot(test_loss, label=\"Test Loss\")\n",
        "ax[0].set_xlabel(\"Epochs\")\n",
        "ax[0].set_ylabel(\"Loss\")\n",
        "ax[0].legend()\n",
        "\n",
        "ax[1].plot(train_accuracies, label=\"Train Accuracy\")\n",
        "ax[1].plot(test_accuracies, label=\"Test Accuracy\")\n",
        "ax[1].set_xlabel(\"Epochs\")\n",
        "ax[1].set_ylabel(\"Accuracy\")\n",
        "ax[1].legend()\n",
        "plt.tight_layout()"
      ]
    },
    {
      "cell_type": "code",
      "source": [
        "# torch.save(model.state_dict(), './ResNet4_4_3.pth')"
      ],
      "metadata": {
        "id": "TmgPkyTAJYAT"
      },
      "id": "TmgPkyTAJYAT",
      "execution_count": 21,
      "outputs": []
    },
    {
      "cell_type": "code",
      "source": [
        "data_list = []\n",
        "\n",
        "model.eval()\n",
        "for images, labels, indices in test_data_loader:\n",
        "  with torch.no_grad():\n",
        "    images = images.to(device)\n",
        "    labels = labels.to(device)\n",
        "    pred = model(images)\n",
        "    fit = loss(pred, labels)\n",
        "    testloss += fit.item()\n",
        "    _, predicted = torch.max(pred, 1)\n",
        "    test_correct += (predicted == labels).sum().item()\n",
        "    test_total += labels.size(0)\n",
        "    for id, label in zip(indices.numpy(), predicted):\n",
        "        data_list.append([id, label.item()])\n",
        "df = pd.DataFrame(data_list, columns=[\"ID\", \"Labels\"])\n",
        "csv_file_path = 'data.csv'\n",
        "df.to_csv(csv_file_path, index=False)"
      ],
      "metadata": {
        "id": "C-0FReVK3N0z"
      },
      "id": "C-0FReVK3N0z",
      "execution_count": 22,
      "outputs": []
    }
  ],
  "metadata": {
    "kernelspec": {
      "display_name": "Python 3",
      "name": "python3"
    },
    "language_info": {
      "codemirror_mode": {
        "name": "ipython",
        "version": 3
      },
      "file_extension": ".py",
      "mimetype": "text/x-python",
      "name": "python",
      "nbconvert_exporter": "python",
      "pygments_lexer": "ipython3",
      "version": "3.13.2"
    },
    "colab": {
      "provenance": [],
      "gpuType": "T4"
    },
    "accelerator": "GPU"
  },
  "nbformat": 4,
  "nbformat_minor": 5
}